{
 "cells": [
  {
   "cell_type": "markdown",
   "id": "2381f817-010d-4627-bb02-1bea311578df",
   "metadata": {},
   "source": [
    "# Data Science Tools and Ecosystem"
   ]
  },
  {
   "cell_type": "markdown",
   "id": "72ea7fd0-163a-4f5f-9732-3b4e93501929",
   "metadata": {},
   "source": [
    "In this notebook, Data Science Tools and Ecosystem are summarized."
   ]
  },
  {
   "cell_type": "markdown",
   "id": "258799c3",
   "metadata": {},
   "source": [
    "##### Exercise 10 - Insert a markdown cell to list Objectives\n",
    "\n",
    "**Objectives:**\n",
    "* Listing popular DS languages\n",
    "* listing commonly used DS libraries\n",
    "* listing commonly used DS tools\n",
    "* ..."
   ]
  },
  {
   "cell_type": "markdown",
   "id": "289e7034",
   "metadata": {},
   "source": [
    "##### Exercise 11 - Create a markdown cell to indicate the Author's name\n",
    "## Author\n",
    "Piotr Zolnierczyk"
   ]
  },
  {
   "cell_type": "markdown",
   "id": "5afe235d-133b-433b-a892-111dd39a7722",
   "metadata": {},
   "source": [
    "##### Exercise 4 - Create a markdown cell to list data science languages\n",
    "Some of the popular languages that Data Scientists use are:\n",
    "1. Python\n",
    "2. R\n",
    "3. Julia"
   ]
  },
  {
   "cell_type": "markdown",
   "id": "5d3ec36c-c248-4015-aed9-c563969e6090",
   "metadata": {},
   "source": [
    "##### Exercise 5 - Create a markdown cell to list data science libraries.\n",
    "Some of the commonly used libraries used by Data Scientists include:\n",
    "1. Sklearn\n",
    "2. Keras\n",
    "3. Tensorflow"
   ]
  },
  {
   "cell_type": "markdown",
   "id": "8d351102-650d-493b-88ef-6638167aa496",
   "metadata": {},
   "source": [
    "##### Exercise 6 - Create a markdown cell with a table of Data Science tools. \n",
    "\n",
    "| Data Science Tools |\n",
    "| --- |\n",
    "| VS Code | \n",
    "| RStudio | \n",
    "| Github | "
   ]
  },
  {
   "cell_type": "markdown",
   "id": "23069fc2",
   "metadata": {},
   "source": [
    "##### Exercise 6 - Create a markdown cell with a table of Data Science tools. \n",
    "\n",
    "| Data Science Tools |\n",
    "| --- |\n",
    "| VS Code | \n",
    "| RStudio | \n",
    "| Github | "
   ]
  },
  {
   "cell_type": "markdown",
   "id": "ededa6db",
   "metadata": {},
   "source": [
    "##### Exercise 7 - Create a markdown cell introducing arithmetic expression examples\n",
    "### Below are a few examples of evaluating arithmetic expressions in Python\n",
    "* addition: x+y = z\n",
    "* multiplication: x*y = a\n",
    "* division: x/y = b\n",
    "* substraction x/y = c"
   ]
  },
  {
   "cell_type": "code",
   "execution_count": 1,
   "id": "e408c9a1-1be2-4dc0-aee0-70bf273d67f8",
   "metadata": {},
   "outputs": [
    {
     "name": "stdout",
     "output_type": "stream",
     "text": [
      "17\n"
     ]
    }
   ],
   "source": [
    "# Exercise 8 - Create a code cell to multiply and add numbers.\n",
    "\n",
    "# This a simple arithmetic expression to mutiply then add integers\n",
    "print((3*4)+5)"
   ]
  },
  {
   "cell_type": "code",
   "execution_count": 2,
   "id": "52bc9853",
   "metadata": {},
   "outputs": [
    {
     "name": "stdout",
     "output_type": "stream",
     "text": [
      "Hours:  3.3333333333333335\n"
     ]
    }
   ],
   "source": [
    "# Exercise 9 - Create a code cell to convert minutes to hours.\n",
    "\n",
    "# This will convert minutes to hours by diving by 60\n",
    "minutes = 200\n",
    "print('Hours: ', minutes/60) "
   ]
  }
 ],
 "metadata": {
  "kernelspec": {
   "display_name": "Python 3",
   "language": "python",
   "name": "python3"
  },
  "language_info": {
   "codemirror_mode": {
    "name": "ipython",
    "version": 3
   },
   "file_extension": ".py",
   "mimetype": "text/x-python",
   "name": "python",
   "nbconvert_exporter": "python",
   "pygments_lexer": "ipython3",
   "version": "3.9.6"
  }
 },
 "nbformat": 4,
 "nbformat_minor": 5
}
